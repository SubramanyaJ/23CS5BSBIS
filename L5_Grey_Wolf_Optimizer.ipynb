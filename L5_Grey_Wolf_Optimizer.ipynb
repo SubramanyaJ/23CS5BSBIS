{
  "cells": [
    {
      "cell_type": "markdown",
      "metadata": {
        "colab_type": "text",
        "id": "view-in-github"
      },
      "source": [
        "<a href=\"https://colab.research.google.com/github/SubramanyaJ/23CS5BSBIS/blob/main/L3_Ant_Colony_Optimization.ipynb\" target=\"_parent\"><img src=\"https://colab.research.google.com/assets/colab-badge.svg\" alt=\"Open In Colab\"/></a>"
      ]
    },
    {
      "cell_type": "code",
      "execution_count": 1,
      "metadata": {
        "colab": {
          "base_uri": "https://localhost:8080/"
        },
        "id": "SDzuQFEerp4z",
        "outputId": "91f6763c-3296-4664-987e-6293a7a5036a"
      },
      "outputs": [
        {
          "name": "stdout",
          "output_type": "stream",
          "text": [
            "Best Position: [-0.84143788  0.86909036  0.62871764 -0.69388586 -0.30850344]\n",
            "Best Score: 2.435273584330572\n"
          ]
        }
      ],
      "source": [
        "import numpy as np\n",
        "\n",
        "def sphere(x):\n",
        "    return np.sum(x**2)\n",
        "\n",
        "class GreyWolfOptimizer:\n",
        "    def __init__(self, obj_func, n_wolves, dim, max_iter, lb=-10, ub=10):\n",
        "        self.obj_func = obj_func\n",
        "        self.n_wolves = n_wolves\n",
        "        self.dim = dim\n",
        "        self.max_iter = max_iter\n",
        "        self.lb = lb\n",
        "        self.ub = ub\n",
        "\n",
        "        self.positions = np.random.uniform(self.lb, self.ub, (self.n_wolves, self.dim))\n",
        "\n",
        "        self.alpha_pos = np.zeros(self.dim)\n",
        "        self.alpha_score = float('inf')\n",
        "\n",
        "        self.beta_pos = np.zeros(self.dim)\n",
        "        self.beta_score = float('inf')\n",
        "\n",
        "        self.delta_pos = np.zeros(self.dim)\n",
        "        self.delta_score = float('inf')\n",
        "\n",
        "    def optimize(self):\n",
        "        for iter in range(self.max_iter):\n",
        "            for i in range(self.n_wolves):\n",
        "                self.positions[i] = np.clip(self.positions[i], self.lb, self.ub)\n",
        "\n",
        "                fitness = self.obj_func(self.positions[i])\n",
        "\n",
        "                if fitness < self.alpha_score:\n",
        "                    self.alpha_score = fitness\n",
        "                    self.alpha_pos = self.positions[i].copy()\n",
        "                elif fitness < self.beta_score:\n",
        "                    self.beta_score = fitness\n",
        "                    self.beta_pos = self.positions[i].copy()\n",
        "                elif fitness < self.delta_score:\n",
        "                    self.delta_score = fitness\n",
        "                    self.delta_pos = self.positions[i].copy()\n",
        "\n",
        "            a = 2 - iter * (2 / self.max_iter)\n",
        "\n",
        "            for i in range(self.n_wolves):\n",
        "                for j in range(self.dim):\n",
        "                    r1 = np.random.rand()\n",
        "                    r2 = np.random.rand()\n",
        "                    A1 = 2 * a * r1 - a\n",
        "                    C1 = 2 * r2\n",
        "                    D_alpha = abs(C1 * self.alpha_pos[j] - self.positions[i, j])\n",
        "                    X1 = self.alpha_pos[j] - A1 * D_alpha\n",
        "\n",
        "                    r1 = np.random.rand()\n",
        "                    r2 = np.random.rand()\n",
        "                    A2 = 2 * a * r1 - a\n",
        "                    C2 = 2 * r2\n",
        "                    D_beta = abs(C2 * self.beta_pos[j] - self.positions[i, j])\n",
        "                    X2 = self.beta_pos[j] - A2 * D_beta\n",
        "\n",
        "                    r1 = np.random.rand()\n",
        "                    r2 = np.random.rand()\n",
        "                    A3 = 2 * a * r1 - a\n",
        "                    C3 = 2 * r2\n",
        "                    D_delta = abs(C3 * self.delta_pos[j] - self.positions[i, j])\n",
        "                    X3 = self.delta_pos[j] - A3 * D_delta\n",
        "\n",
        "                    self.positions[i, j] = (X1 + X2 + X3) / 3\n",
        "\n",
        "        return self.alpha_pos, self.alpha_score\n",
        "\n",
        "\n",
        "if __name__ == \"__main__\":\n",
        "    n_wolves = int(input(\"Enter number of wolves: \"))\n",
        "    dim = int(input(\"Enter number of dimensions: \"))\n",
        "    max_iter = int(input(\"Enter max iterations: \"))\n",
        "\n",
        "    gwo = GreyWolfOptimizer(obj_func=sphere, n_wolves=n_wolves, dim=dim, max_iter=max_iter)\n",
        "    best_pos, best_score = gwo.optimize()\n",
        "\n",
        "    print(f\"Best Position: {best_pos}\")\n",
        "    print(f\"Best Score: {best_score}\")"
      ]
    }
  ],
  "metadata": {
    "colab": {
      "authorship_tag": "ABX9TyOdNDisfHoMgO251ySvAC0E",
      "include_colab_link": true,
      "provenance": []
    },
    "kernelspec": {
      "display_name": "Python 3",
      "name": "python3"
    },
    "language_info": {
      "codemirror_mode": {
        "name": "ipython",
        "version": 3
      },
      "file_extension": ".py",
      "mimetype": "text/x-python",
      "name": "python",
      "nbconvert_exporter": "python",
      "pygments_lexer": "ipython3",
      "version": "3.13.5"
    }
  },
  "nbformat": 4,
  "nbformat_minor": 0
}
