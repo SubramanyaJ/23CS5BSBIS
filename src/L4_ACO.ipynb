{
  "nbformat": 4,
  "nbformat_minor": 0,
  "metadata": {
    "colab": {
      "provenance": [],
      "authorship_tag": "ABX9TyOdNDisfHoMgO251ySvAC0E",
      "include_colab_link": true
    },
    "kernelspec": {
      "name": "python3",
      "display_name": "Python 3"
    },
    "language_info": {
      "name": "python"
    }
  },
  "cells": [
    {
      "cell_type": "markdown",
      "metadata": {
        "id": "view-in-github",
        "colab_type": "text"
      },
      "source": [
        "<a href=\"https://colab.research.google.com/github/SubramanyaJ/23CS5BSBIS/blob/main/src/L4_ACO.ipynb\" target=\"_parent\"><img src=\"https://colab.research.google.com/assets/colab-badge.svg\" alt=\"Open In Colab\"/></a>"
      ]
    },
    {
      "cell_type": "code",
      "execution_count": 1,
      "metadata": {
        "colab": {
          "base_uri": "https://localhost:8080/"
        },
        "id": "SDzuQFEerp4z",
        "outputId": "91f6763c-3296-4664-987e-6293a7a5036a"
      },
      "outputs": [
        {
          "output_type": "stream",
          "name": "stdout",
          "text": [
            "Best path: [0, 1, 4, 3, 2] with length: 9.00\n"
          ]
        }
      ],
      "source": [
        "import numpy as np\n",
        "import random\n",
        "\n",
        "def initialize_pheromone(num_cities, initial_pheromone=1.0):\n",
        "    return np.ones((num_cities, num_cities)) * initial_pheromone\n",
        "\n",
        "def calculate_probabilities(pheromone, distances, visited, alpha=1, beta=2):\n",
        "    pheromone = np.copy(pheromone)\n",
        "    pheromone[list(visited)] = 0  # zero out visited cities\n",
        "\n",
        "    heuristic = 1 / (distances + 1e-10)  # inverse of distance\n",
        "    heuristic[list(visited)] = 0\n",
        "\n",
        "    prob = (pheromone ** alpha) * (heuristic ** beta)\n",
        "    total = np.sum(prob)\n",
        "    if total == 0:\n",
        "        # If no options (all visited), choose randomly among unvisited\n",
        "        choices = [i for i in range(len(distances)) if i not in visited]\n",
        "        return choices, None\n",
        "    prob = prob / total\n",
        "    return range(len(distances)), prob\n",
        "\n",
        "def select_next_city(probabilities, cities):\n",
        "    if probabilities is None:\n",
        "        return random.choice(cities)\n",
        "    return np.random.choice(cities, p=probabilities)\n",
        "\n",
        "def path_length(path, distances):\n",
        "    length = 0\n",
        "    for i in range(len(path)):\n",
        "        length += distances[path[i-1]][path[i]]\n",
        "    return length\n",
        "\n",
        "def ant_colony_optimization(distances, n_ants=5, n_iterations=50, decay=0.5, alpha=1, beta=2):\n",
        "    num_cities = len(distances)\n",
        "    pheromone = initialize_pheromone(num_cities)\n",
        "    best_path = None\n",
        "    best_length = float('inf')\n",
        "\n",
        "    for iteration in range(n_iterations):\n",
        "        all_paths = []\n",
        "        for _ in range(n_ants):\n",
        "            path = [0]  # start at city 0\n",
        "            visited = set(path)\n",
        "\n",
        "            for _ in range(num_cities - 1):\n",
        "                current_city = path[-1]\n",
        "                cities, probabilities = calculate_probabilities(pheromone[current_city], distances[current_city], visited, alpha, beta)\n",
        "                next_city = select_next_city(probabilities, cities)\n",
        "                path.append(next_city)\n",
        "                visited.add(next_city)\n",
        "\n",
        "            length = path_length(path, distances)\n",
        "            all_paths.append((path, length))\n",
        "\n",
        "            if length < best_length:\n",
        "                best_length = length\n",
        "                best_path = path\n",
        "\n",
        "        # Evaporate pheromone\n",
        "        pheromone *= (1 - decay)\n",
        "\n",
        "        # Deposit pheromone proportional to path quality\n",
        "        for path, length in all_paths:\n",
        "            deposit = 1 / length\n",
        "            for i in range(len(path)):\n",
        "                pheromone[path[i-1]][path[i]] += deposit\n",
        "\n",
        "    return best_path, best_length\n",
        "\n",
        "# Example usage\n",
        "if __name__ == \"__main__\":\n",
        "    distances = np.array([\n",
        "        [np.inf, 2, 2, 5, 7],\n",
        "        [2, np.inf, 4, 8, 2],\n",
        "        [2, 4, np.inf, 1, 3],\n",
        "        [5, 8, 1, np.inf, 2],\n",
        "        [7, 2, 3, 2, np.inf]\n",
        "    ])\n",
        "\n",
        "    best_path, best_length = ant_colony_optimization(distances)\n",
        "    print(f\"Best path: {[int(city) for city in best_path]} with length: {best_length:.2f}\")"
      ]
    }
  ]
}