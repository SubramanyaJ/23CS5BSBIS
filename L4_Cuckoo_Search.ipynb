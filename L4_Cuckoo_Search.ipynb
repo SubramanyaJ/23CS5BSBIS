{
  "cells": [
    {
      "cell_type": "markdown",
      "metadata": {
        "colab_type": "text",
        "id": "view-in-github"
      },
      "source": [
        "<a href=\"https://colab.research.google.com/github/SubramanyaJ/23CS5BSBIS/blob/main/L3_Ant_Colony_Optimization.ipynb\" target=\"_parent\"><img src=\"https://colab.research.google.com/assets/colab-badge.svg\" alt=\"Open In Colab\"/></a>"
      ]
    },
    {
      "cell_type": "code",
      "execution_count": 1,
      "metadata": {
        "colab": {
          "base_uri": "https://localhost:8080/"
        },
        "id": "SDzuQFEerp4z",
        "outputId": "91f6763c-3296-4664-987e-6293a7a5036a"
      },
      "outputs": [
        {
          "name": "stdout",
          "output_type": "stream",
          "text": [
            "Iteration 1/100, Best Fitness: 280\n",
            "Iteration 10/100, Best Fitness: 360\n",
            "Iteration 20/100, Best Fitness: 360\n",
            "Iteration 30/100, Best Fitness: 360\n",
            "Iteration 40/100, Best Fitness: 360\n",
            "Iteration 50/100, Best Fitness: 360\n",
            "Iteration 60/100, Best Fitness: 360\n",
            "Iteration 70/100, Best Fitness: 360\n",
            "Iteration 80/100, Best Fitness: 360\n",
            "Iteration 90/100, Best Fitness: 360\n",
            "Iteration 100/100, Best Fitness: 360\n",
            "\n",
            "Best solution found:\n",
            "[1 1 1 1 0]\n",
            "Total value: 360\n",
            "Total weight: 100\n"
          ]
        }
      ],
      "source": [
        "import numpy as np\n",
        "import math\n",
        "\n",
        "def knapsack_fitness(solution, values, weights, capacity):\n",
        "    total_weight = np.sum(solution * weights)\n",
        "    if total_weight > capacity:\n",
        "        return 0  # Penalize overweight solutions\n",
        "    return np.sum(solution * values)\n",
        "\n",
        "def levy_flight(Lambda, size):\n",
        "    sigma = (math.gamma(1 + Lambda) * math.sin(math.pi * Lambda / 2) /\n",
        "             (math.gamma((1 + Lambda) / 2) * Lambda * 2 ** ((Lambda - 1) / 2))) ** (1 / Lambda)\n",
        "    u = np.random.normal(0, sigma, size)\n",
        "    v = np.random.normal(0, 1, size)\n",
        "    step = u / (np.abs(v) ** (1 / Lambda))\n",
        "    return step\n",
        "\n",
        "def sigmoid(x):\n",
        "    return 1 / (1 + np.exp(-x))\n",
        "\n",
        "def cuckoo_search_knapsack(values, weights, capacity, n_nests=25, miter=100, pa=0.25):\n",
        "\n",
        "    n_items = len(values)\n",
        "    nests = np.random.randint(0, 2, size=(n_nests, n_items))\n",
        "    fitness = np.array([knapsack_fitness(n, values, weights, capacity) for n in nests])\n",
        "\n",
        "    best_idx = np.argmax(fitness)\n",
        "    best_solution = nests[best_idx].copy()\n",
        "    best_fitness = fitness[best_idx]\n",
        "\n",
        "    Lambda = 1.5  # Levy flight exponent\n",
        "\n",
        "    for iteration in range(miter):\n",
        "        for i in range(n_nests):\n",
        "            step = levy_flight(Lambda, n_items)\n",
        "            current = nests[i].astype(float)\n",
        "            new_solution_cont = current + step\n",
        "            probs = sigmoid(new_solution_cont)\n",
        "            new_solution_bin = (probs > 0.5).astype(int)\n",
        "\n",
        "            new_fitness = knapsack_fitness(new_solution_bin, values, weights, capacity)\n",
        "\n",
        "            # Greedy selection\n",
        "            if new_fitness > fitness[i]:\n",
        "                nests[i] = new_solution_bin\n",
        "                fitness[i] = new_fitness\n",
        "\n",
        "                if new_fitness > best_fitness:\n",
        "                    best_fitness = new_fitness\n",
        "                    best_solution = new_solution_bin.copy()\n",
        "\n",
        "        # Abandon worst nests with probability pa\n",
        "        n_abandon = int(pa * n_nests)\n",
        "        if n_abandon > 0:\n",
        "            abandon_indices = np.random.choice(n_nests, n_abandon, replace=False)\n",
        "            for idx in abandon_indices:\n",
        "                nests[idx] = np.random.randint(0, 2, n_items)\n",
        "                fitness[idx] = knapsack_fitness(nests[idx], values, weights, capacity)\n",
        "\n",
        "        # Update global best after abandonment\n",
        "        current_best_idx = np.argmax(fitness)\n",
        "        if fitness[current_best_idx] > best_fitness:\n",
        "            best_fitness = fitness[current_best_idx]\n",
        "            best_solution = nests[current_best_idx].copy()\n",
        "\n",
        "        # Print progress: every 10 iterations and first iteration\n",
        "        if iteration == 0 or (iteration + 1) % 10 == 0:\n",
        "            print(f\"Iteration {iteration + 1}/{miter}, Best Fitness: {best_fitness}\")\n",
        "\n",
        "    return best_solution, best_fitness\n",
        "\n",
        "if __name__ == \"__main__\":\n",
        "    # Example knapsack problem\n",
        "    values = np.array([60, 100, 120, 80, 30])\n",
        "    weights = np.array([10, 20, 30, 40, 50])\n",
        "    capacity = 100\n",
        "\n",
        "    best_sol, best_val = cuckoo_search_knapsack(values, weights, capacity, n_nests=30, miter=100, pa=0.25)\n",
        "\n",
        "    print(\"\\nBest solution found:\")\n",
        "    print(best_sol)\n",
        "    print(\"Total value:\", best_val)\n",
        "    print(\"Total weight:\", np.sum(best_sol * weights))"
      ]
    }
  ],
  "metadata": {
    "colab": {
      "authorship_tag": "ABX9TyOdNDisfHoMgO251ySvAC0E",
      "include_colab_link": true,
      "provenance": []
    },
    "kernelspec": {
      "display_name": "Python 3",
      "name": "python3"
    },
    "language_info": {
      "codemirror_mode": {
        "name": "ipython",
        "version": 3
      },
      "file_extension": ".py",
      "mimetype": "text/x-python",
      "name": "python",
      "nbconvert_exporter": "python",
      "pygments_lexer": "ipython3",
      "version": "3.13.5"
    }
  },
  "nbformat": 4,
  "nbformat_minor": 0
}
