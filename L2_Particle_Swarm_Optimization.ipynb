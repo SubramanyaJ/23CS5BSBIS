{
  "nbformat": 4,
  "nbformat_minor": 0,
  "metadata": {
    "colab": {
      "provenance": [],
      "authorship_tag": "ABX9TyORUZ6huC8XiBWkhNd946oJ",
      "include_colab_link": true
    },
    "kernelspec": {
      "name": "python3",
      "display_name": "Python 3"
    },
    "language_info": {
      "name": "python"
    }
  },
  "cells": [
    {
      "cell_type": "markdown",
      "metadata": {
        "id": "view-in-github",
        "colab_type": "text"
      },
      "source": [
        "<a href=\"https://colab.research.google.com/github/SubramanyaJ/23CS5BSBIS/blob/main/L2_Particle_Swarm_Optimization.ipynb\" target=\"_parent\"><img src=\"https://colab.research.google.com/assets/colab-badge.svg\" alt=\"Open In Colab\"/></a>"
      ]
    },
    {
      "cell_type": "code",
      "execution_count": 11,
      "metadata": {
        "colab": {
          "base_uri": "https://localhost:8080/"
        },
        "id": "aamn5S25Vxqh",
        "outputId": "e1edc47c-8f72-4a62-822b-d585d917094e"
      },
      "outputs": [
        {
          "output_type": "stream",
          "name": "stdout",
          "text": [
            "Final solution  -10.0\n",
            "Final Best Value: -130.0\n"
          ]
        }
      ],
      "source": [
        "import numpy as np\n",
        "\n",
        "def polynomial(x):\n",
        "  return -x**2 + 5*x + 20\n",
        "\n",
        "num_particles = 100\n",
        "lower = -10\n",
        "upper = 10\n",
        "\n",
        "positions = np.random.uniform(lower, upper, num_particles)\n",
        "velocities = np.random.uniform(-1, 1, num_particles)\n",
        "\n",
        "\n",
        "pbestpos = np.copy(positions)\n",
        "pbestval = np.array([polynomial(p) for p in positions])\n",
        "\n",
        "gbest_position = pbestpos[np.argmin(pbestval)]\n",
        "gbestval = np.min(pbestval)\n",
        "\n",
        "w = 0.5\n",
        "c1 = 2\n",
        "c2 = 2\n",
        "\n",
        "for iteration in range(1000):\n",
        "  r1 = np.random.rand(num_particles)\n",
        "  r2 = np.random.rand(num_particles)\n",
        "\n",
        "  for i in range(num_particles):\n",
        "    velocities[i] = w * velocities[i] + c1 * r1[i] * (pbestpos[i] - positions[i]) + c2 * r2[i] * (gbest_position - positions[i])\n",
        "    positions[i] += velocities[i]\n",
        "\n",
        "    positions[i] = np.clip(positions[i], lower, upper)\n",
        "\n",
        "    current = polynomial(positions[i])\n",
        "\n",
        "    if current < pbestval[i]:\n",
        "      pbestpos[i] = positions[i]\n",
        "      pbestval[i] = current\n",
        "\n",
        "    if current < gbestval:\n",
        "      gbest_position = positions[i]\n",
        "      gbestval = current\n",
        "      #print(f\"Iteration {iteration} - Best Value: {gbestval}\")\n",
        "print(\"Final solution \", gbest_position)\n",
        "print(\"Final Best Value:\", gbestval)"
      ]
    }
  ]
}